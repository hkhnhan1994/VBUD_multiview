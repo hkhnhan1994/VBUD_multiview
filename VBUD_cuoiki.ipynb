{
  "nbformat": 4,
  "nbformat_minor": 0,
  "metadata": {
    "colab": {
      "provenance": [],
      "gpuType": "T4",
      "authorship_tag": "ABX9TyMHFZdiC9CWPz7YM2x0tyos",
      "include_colab_link": true
    },
    "kernelspec": {
      "name": "python3",
      "display_name": "Python 3"
    },
    "language_info": {
      "name": "python"
    },
    "accelerator": "GPU"
  },
  "cells": [
    {
      "cell_type": "markdown",
      "metadata": {
        "id": "view-in-github",
        "colab_type": "text"
      },
      "source": [
        "<a href=\"https://colab.research.google.com/github/hkhnhan1994/VBUD_multiview/blob/main/VBUD_cuoiki.ipynb\" target=\"_parent\"><img src=\"https://colab.research.google.com/assets/colab-badge.svg\" alt=\"Open In Colab\"/></a>"
      ]
    },
    {
      "cell_type": "code",
      "execution_count": null,
      "metadata": {
        "id": "6iMveh666XjC"
      },
      "outputs": [],
      "source": [
        "# !git clone https://github.com/ZubinGou/multi-view-prompting.git"
      ]
    },
    {
      "cell_type": "code",
      "source": [
        "from google.colab import drive\n",
        "drive.mount('/content/gdrive')"
      ],
      "metadata": {
        "id": "siNunzge7GEV",
        "colab": {
          "base_uri": "https://localhost:8080/"
        },
        "outputId": "6924e6aa-c765-4ef4-e584-92c34ec55b4b"
      },
      "execution_count": 1,
      "outputs": [
        {
          "output_type": "stream",
          "name": "stdout",
          "text": [
            "Mounted at /content/gdrive\n"
          ]
        }
      ]
    },
    {
      "cell_type": "markdown",
      "source": [
        "\n",
        "**Nhớ xóa transformers trong requirements.txt**"
      ],
      "metadata": {
        "id": "R-rvJVCM1shQ"
      }
    },
    {
      "cell_type": "code",
      "source": [],
      "metadata": {
        "id": "aTk-IJ5V1zsD"
      },
      "execution_count": null,
      "outputs": []
    },
    {
      "cell_type": "code",
      "source": [
        "%cd /content/gdrive/MyDrive/Colab Notebooks/VBUD/multi-view-prompting-main\n",
        "%ls\n",
        "!pip uninstall accelerate transformers\n",
        "!pip install accelerate>=0.20.3\n",
        "!pip install transformers==4.30.2\n",
        "!pip install simpletransformers\n",
        "!pip install -r requirements.txt"
      ],
      "metadata": {
        "id": "iV6x4Jaf7ynf"
      },
      "execution_count": null,
      "outputs": []
    },
    {
      "cell_type": "markdown",
      "source": [
        "🤖 Trained Model\n",
        "We release the multi-task MvP model (one seed): mvp-unified-base [Google Drive]\n",
        "\n",
        "You may download the model with gdown (pip install gdown):\n",
        "\n"
      ],
      "metadata": {
        "id": "PtwIuEE8_7cn"
      }
    },
    {
      "cell_type": "code",
      "source": [
        "!pip install gdown\n",
        "%mkdir -p outputs && cd outputs\n",
        "!gdown 1FMTuS4DRquLjZ3xWHLDh25W31d4dgQph\n",
        "!tar -xvf unified_model.tar.gz\n",
        "!mv src/outputs/unified unified\n",
        "%cd .."
      ],
      "metadata": {
        "id": "_OHiN9r1_6nf",
        "colab": {
          "base_uri": "https://localhost:8080/"
        },
        "outputId": "1acfc5ed-bec4-4d77-c358-f72ebcb08013"
      },
      "execution_count": null,
      "outputs": [
        {
          "output_type": "stream",
          "name": "stdout",
          "text": [
            "Requirement already satisfied: gdown in /usr/local/lib/python3.10/site-packages (4.7.1)\n",
            "Requirement already satisfied: six in /usr/local/lib/python3.10/site-packages (from gdown) (1.16.0)\n",
            "Requirement already satisfied: tqdm in /usr/local/lib/python3.10/site-packages (from gdown) (4.65.0)\n",
            "Requirement already satisfied: filelock in /usr/local/lib/python3.10/site-packages (from gdown) (3.12.4)\n",
            "Requirement already satisfied: requests[socks] in /usr/local/lib/python3.10/site-packages (from gdown) (2.31.0)\n",
            "Requirement already satisfied: beautifulsoup4 in /usr/local/lib/python3.10/site-packages (from gdown) (4.12.2)\n",
            "Requirement already satisfied: soupsieve>1.2 in /usr/local/lib/python3.10/site-packages (from beautifulsoup4->gdown) (2.5)\n",
            "Requirement already satisfied: urllib3<3,>=1.21.1 in /usr/local/lib/python3.10/site-packages (from requests[socks]->gdown) (1.26.15)\n",
            "Requirement already satisfied: certifi>=2017.4.17 in /usr/local/lib/python3.10/site-packages (from requests[socks]->gdown) (2022.12.7)\n",
            "Requirement already satisfied: charset-normalizer<4,>=2 in /usr/local/lib/python3.10/site-packages (from requests[socks]->gdown) (3.1.0)\n",
            "Requirement already satisfied: idna<4,>=2.5 in /usr/local/lib/python3.10/site-packages (from requests[socks]->gdown) (3.4)\n",
            "Requirement already satisfied: PySocks!=1.5.7,>=1.5.6 in /usr/local/lib/python3.10/site-packages (from requests[socks]->gdown) (1.7.1)\n",
            "\u001b[33mWARNING: Running pip as the 'root' user can result in broken permissions and conflicting behaviour with the system package manager. It is recommended to use a virtual environment instead: https://pip.pypa.io/warnings/venv\u001b[0m\u001b[33m\n",
            "\u001b[0mDownloading...\n",
            "From (uriginal): https://drive.google.com/uc?id=1FMTuS4DRquLjZ3xWHLDh25W31d4dgQph\n",
            "From (redirected): https://drive.google.com/uc?id=1FMTuS4DRquLjZ3xWHLDh25W31d4dgQph&confirm=t&uuid=eaa4fbec-5c3a-4210-a69a-4045b152a508\n",
            "To: /content/gdrive/MyDrive/Colab Notebooks/VBUD/multi-view-prompting-main/unified_model.tar.gz\n",
            "100% 816M/816M [00:06<00:00, 119MB/s]\n",
            "src/outputs/unified/top5_seed10/final/\n",
            "src/outputs/unified/top5_seed10/final/config.json\n",
            "src/outputs/unified/top5_seed10/final/pytorch_model.bin\n",
            "src/outputs/unified/top5_seed10/final/special_tokens_map.json\n",
            "src/outputs/unified/top5_seed10/final/spiece.model\n",
            "src/outputs/unified/top5_seed10/final/tokenizer_config.json\n",
            "/content/gdrive/MyDrive/Colab Notebooks/VBUD\n"
          ]
        }
      ]
    },
    {
      "cell_type": "markdown",
      "source": [
        "Cập nhật tên module\n",
        " **transformers.generation_beam_search**\n",
        " file: src/t5_score.py và src/t5.py\n",
        " => transformers.generation.beam_search\n"
      ],
      "metadata": {
        "id": "3058f2kd2Hey"
      }
    },
    {
      "cell_type": "code",
      "source": [
        "!bash scripts/eval_unified.sh\n"
      ],
      "metadata": {
        "id": "n7U9J35B_-dL",
        "colab": {
          "base_uri": "https://localhost:8080/"
        },
        "outputId": "13dae8c2-4c4c-49b6-ed50-5b0f62b6b36e"
      },
      "execution_count": null,
      "outputs": [
        {
          "output_type": "stream",
          "name": "stdout",
          "text": [
            "+ export CUDA_VISIBLE_DEVICES=0\n",
            "+ CUDA_VISIBLE_DEVICES=0\n",
            "+ cd src\n",
            "+ for SEED in 10\n",
            "+ K=5\n",
            "+ INFER_PATH=5\n",
            "+ CTRL_TOKEN=post\n",
            "+ TASK=unified\n",
            "+ OUT_DIR=../outputs/unified/top5_seed10\n",
            "+ python main.py --data_path ../data/ --dataset seed10 --model_name_or_path t5-base --output_dir ../outputs/unified/top5_seed10 --num_train_epochs 20 --save_top_k 0 --task unified --top_k 5 --ctrl_token post --multi_path --num_path 5 --seed 10 --train_batch_size 16 --gradient_accumulation_steps 1 --learning_rate 1e-4 --lowercase --sort_label --data_ratio 1.0 --check_val_every_n_epoch 10 --agg_strategy vote --eval_batch_size 64 --constrained_decode --multi_task\n",
            "2023-09-21 08:33:30.729234: W tensorflow/compiler/tf2tensorrt/utils/py_utils.cc:38] TF-TRT Warning: Could not find TensorRT\n",
            "/usr/local/lib/python3.10/dist-packages/transformers/generation_utils.py:24: FutureWarning: Importing `GenerationMixin` from `src/transformers/generation_utils.py` is deprecated and will be removed in Transformers v5. Import as `from transformers import GenerationMixin` instead.\n",
            "  warnings.warn(\n",
            "You are using the default legacy behaviour of the <class 'transformers.models.t5.tokenization_t5.T5Tokenizer'>. If you see this, DO NOT PANIC! This is expected, and simply means that the `legacy` (previous) behavior will be used so nothing changes for you. If you want to use the new behaviour, set `legacy=False`. This should only be set if you understand what it means, and thouroughly read the reason why this was added as explained in https://github.com/huggingface/transformers/pull/24565\n",
            "  0% 0/26 [00:00<?, ?it/s]/usr/local/lib/python3.10/dist-packages/transformers/generation/configuration_utils.py:399: UserWarning: `num_beams` is set to 1. However, `early_stopping` is set to `True` -- this flag is only used in beam-based generation modes. You should set `num_beams>1` or unset `early_stopping`.\n",
            "  warnings.warn(\n",
            " 54% 14/26 [08:18<07:19, 36.61s/it]"
          ]
        }
      ]
    }
  ]
}